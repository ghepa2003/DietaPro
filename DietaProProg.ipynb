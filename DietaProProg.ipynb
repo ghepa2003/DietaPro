{
 "cells": [
  {
   "cell_type": "code",
   "execution_count": 1,
   "id": "fff60588",
   "metadata": {},
   "outputs": [],
   "source": [
    "from DietaProg_functions import importa_db, importa_db, calcola_target, calcola_dieta, stampa_risultati, bilancia_conservando_macros, calcola_calorie, verifica_split, verifica_pasto"
   ]
  },
  {
   "cell_type": "markdown",
   "id": "99cc0bde",
   "metadata": {},
   "source": [
    "# Dati"
   ]
  },
  {
   "cell_type": "code",
   "execution_count": 2,
   "id": "ee744020",
   "metadata": {},
   "outputs": [],
   "source": [
    "carbo_db = importa_db(filepath=\"carboidrati.csv\")\n",
    "prot_db = importa_db(filepath=\"proteine.csv\")\n",
    "grassi_db = importa_db(filepath=\"grassi.csv\")\n",
    "frutta_db = importa_db(filepath=\"frutta.csv\")\n",
    "verdura_db = importa_db(filepath=\"verdura.csv\")\n",
    "\n",
    "calorie_tot = 2000  # kcal giornaliere\n",
    "\n",
    "# distribuzione pasti\n",
    "perc_pasti = {\n",
    "    \"colazione\": 20 / 100,\n",
    "    \"pranzo\": 40 / 100,\n",
    "    \"cena\": 40 / 100,\n",
    "}\n",
    "macro_tot = {\n",
    "    \"carbo\": 50 / 100,\n",
    "    \"prot\": 30 / 100,\n",
    "    \"fat\": 20 / 100,\n",
    "}\n",
    "\n",
    "macro_pasti = {\n",
    "    \"colazione\": {\"carbo\": 50 / 100, \"prot\": 25 / 100, \"fat\": 25 / 100},\n",
    "    \"pranzo\": {\"carbo\": 40 / 100, \"prot\": 30 / 100, \"fat\": 30 / 100},\n",
    "    \"cena\": {\"carbo\": 30 / 100, \"prot\": 35 / 100, \"fat\": 35 / 100},\n",
    "}\n"
   ]
  },
  {
   "cell_type": "markdown",
   "id": "60ef4c8a",
   "metadata": {},
   "source": [
    "# Colazione"
   ]
  },
  {
   "cell_type": "code",
   "execution_count": 8,
   "id": "3f8f1d92",
   "metadata": {},
   "outputs": [
    {
     "name": "stdout",
     "output_type": "stream",
     "text": [
      "\n",
      "=== COLAZIONE ===\n",
      "pasta: 40.1 g\n",
      "pane: 29.3 g\n",
      "pollo: 47.3 g\n",
      "olio: 6.8 g\n",
      "\n",
      "Frutta: 76.9 g\n",
      "\n",
      "Verdura: 0.0 g\n"
     ]
    }
   ],
   "source": [
    "cal_pasto = calorie_tot * perc_pasti[\"colazione\"]  \n",
    "\n",
    "scelta = {}\n",
    "for cat in [\"carboidrati\", \"proteine\", \"grassi\", \"frutta\", \"verdura\"]:\n",
    "    #print(f\"\\nAlimenti disponibili per {cat}: {list(carbo_db.keys()) if cat=='carboidrati' else (prot_db.keys() if cat=='proteine' else (grassi_db.keys() if cat=='grassi' else (frutta_db.keys() if cat=='frutta' else verdura_db.keys())))}\")\n",
    "    inp = input(f\"Scegli 1 o 2 alimenti per {cat} (colazione): \")\n",
    "    scelta[cat] = [f.strip() for f in inp.split(\",\") if f.strip()]\n",
    "\n",
    "# calcolo dieta per il pasto\n",
    "scelti, sol, quant_frutta, quant_verdura = calcola_dieta(\n",
    "    cal_pasto, macro_pasti[\"colazione\"], scelta, carbo_db=carbo_db, prot_db=prot_db, grassi_db=grassi_db, frutta_db=frutta_db, verdura_db=verdura_db,\n",
    "    fruit_ratio=0.1, veg_ratio=0.0  # modificabili a piacere\n",
    ")\n",
    "\n",
    "stampa_risultati(\"colazione\", scelti, sol, quant_frutta, quant_verdura)"
   ]
  },
  {
   "cell_type": "code",
   "execution_count": 9,
   "id": "793bc3e1",
   "metadata": {},
   "outputs": [
    {
     "name": "stdout",
     "output_type": "stream",
     "text": [
      "\n",
      "=== COLAZIONE ===\n",
      "pasta: 43.6 g\n",
      "pane: 24.7 g\n",
      "pollo: 47.1 g\n",
      "olio: 6.9 g\n",
      "\n",
      "Frutta: 76.9 g\n",
      "\n",
      "Verdura: 0.0 g\n"
     ]
    }
   ],
   "source": [
    "splits = None\n",
    "splits = {(\"pasta\",\"pane\"): (70,30)}\n",
    "if splits:\n",
    "    sol_bilanciata, info = bilancia_conservando_macros(scelti, sol, splits, carbo_db, prot_db, grassi_db)\n",
    "else:\n",
    "    # nessuno split richiesto: mantieni la soluzione originale\n",
    "    sol_bilanciata = sol.copy() if hasattr(sol, \"copy\") else sol\n",
    "    info = {\"skipped\": True}\n",
    "\n",
    "stampa_risultati(\"colazione\", scelti, sol_bilanciata, quant_frutta, quant_verdura)"
   ]
  },
  {
   "cell_type": "code",
   "execution_count": 10,
   "id": "009cebd0",
   "metadata": {},
   "outputs": [
    {
     "name": "stdout",
     "output_type": "stream",
     "text": [
      "\n",
      "=== VERIFICA PASTO: COLAZIONE ===\n",
      "\n",
      "--- Originale vs Bilanciata (parte principale) ---\n",
      "Originale: kcal=356.3, C=45.0 g, P=22.5 g, F=10.0 g\n",
      "Bilanciata: kcal=357.0, C=45.0 g, P=22.5 g, F=10.0 g\n",
      "Delta kcal = 0.685 kcal\n",
      "\n",
      "--- CONFRONTO CON RICHIESTA INIZIALE ---\n",
      "Richiesto totale pasto: 400.0 kcal  (frutta 40.0 kcal, verdura 0.0 kcal, parte principale 360.0 kcal)\n",
      "Richiesti macronutrienti (parte principale): C=45.0 g, P=22.5 g, F=10.0 g\n",
      "\n",
      "Ottenuto (parte principale): kcal=357.0, C=45.0 g, P=22.5 g, F=10.0 g\n",
      "Richiesti (parte principale): kcal=360.0, C=45.0 g, P=22.5 g, F=10.0 g\n",
      "Delta kcal parte principale = -3.027 kcal, Delta C = 0.000 g, Delta P = 0.000 g, Delta F = -0.000 g\n",
      "\n",
      "Frutta richiesta: 40.0 kcal  - ottenuta: 40.0 kcal (76.9 g)\n",
      "Verdura richiesta: 0.0 kcal - ottenuta: 0.0 kcal (0.0 g)\n",
      "\n",
      "--- VERIFICA CALORIE / MACRO ---\n",
      "Originale: kcal=356.3, carbo=45.0g, prot=22.5g, grassi=10.0g\n",
      "Bilanciata: kcal=357.0, carbo=45.0g, prot=22.5g, grassi=10.0g\n",
      "Delta kcal = 0.685 kcal\n",
      "\n",
      "--- Dettaglio per alimento (bilanciata) ---\n",
      "pasta: 43.6 g, 152.7 kcal, C:31.4g P:5.7g F:0.7g\n",
      "pane: 24.7 g, 65.5 kcal, C:13.6g P:2.2g F:0.7g\n",
      "pollo: 47.1 g, 77.7 kcal, C:0.0g P:14.6g F:1.7g\n",
      "olio: 6.9 g, 61.1 kcal, C:0.0g P:0.0g F:6.9g\n",
      "\n",
      "--- Controllo splits ---\n",
      "pasta/pane richiesta=70.0%, ottenuta=70.00%  (kcal 152.7/65.5)\n"
     ]
    }
   ],
   "source": [
    "# Verifica calorie e macronutrienti prima/dopo bilanciamento\n",
    "richiesta_kcal = cal_pasto\n",
    "per_food_orig, totals_orig = calcola_calorie(scelti, sol, carbo_db, prot_db, grassi_db, frutta_db, verdura_db)\n",
    "per_food_new,  totals_new  = calcola_calorie(scelti, sol_bilanciata, carbo_db, prot_db, grassi_db, frutta_db, verdura_db)\n",
    "\n",
    "res_verifica = verifica_pasto(\n",
    "    pasto=\"colazione\",\n",
    "    per_food_new=per_food_new,\n",
    "    totals_new=totals_new,\n",
    "    per_food_orig=per_food_orig,\n",
    "    totals_orig=totals_orig,\n",
    "    splits=splits,\n",
    "    requested_total_kcal=cal_pasto,\n",
    "    requested_fruit_kcal=cal_pasto * 0.1,   # oppure passare valore calcolato esternamente\n",
    "    requested_veg_kcal=cal_pasto * 0,     # oppure passare valore calcolato esternamente\n",
    "    perc_macro=macro_pasti.get(\"colazione\"),\n",
    "    frutta_db=frutta_db,\n",
    "    verdura_db=verdura_db,\n",
    "    quant_frutta=quant_frutta,\n",
    "    quant_verdura=quant_verdura\n",
    ")"
   ]
  },
  {
   "cell_type": "markdown",
   "id": "e3b5df35",
   "metadata": {},
   "source": [
    "# Pranzo"
   ]
  },
  {
   "cell_type": "code",
   "execution_count": null,
   "id": "0a04a3c8",
   "metadata": {},
   "outputs": [
    {
     "name": "stdout",
     "output_type": "stream",
     "text": [
      "\n",
      "=== PRANZO ===\n",
      "pane: 116.4 g\n",
      "pollo: 121.1 g\n",
      "olio: 13.5 g\n",
      "\n",
      "Frutta: 153.8 g\n",
      "\n",
      "Verdura: 470.6 g\n"
     ]
    }
   ],
   "source": [
    "cal_pasto = calorie_tot * perc_pasti[\"pranzo\"]  \n",
    "\n",
    "scelta = {}\n",
    "for cat in [\"carboidrati\", \"proteine\", \"grassi\", \"frutta\", \"verdura\"]:\n",
    "    #print(f\"\\nAlimenti disponibili per {cat}: {list(carbo_db.keys()) if cat=='carboidrati' else (prot_db.keys() if cat=='proteine' else (grassi_db.keys() if cat=='grassi' else (frutta_db.keys() if cat=='frutta' else verdura_db.keys())))}\")\n",
    "    inp = input(f\"Scegli 1 o 2 alimenti per {cat} (pranzo): \")\n",
    "    scelta[cat] = [f.strip() for f in inp.split(\",\") if f.strip()]\n",
    "\n",
    "# calcolo dieta per il pasto\n",
    "scelti, sol, quant_frutta, quant_verdura = calcola_dieta(\n",
    "    cal_pasto, macro_pasti[\"pranzo\"], scelta, carbo_db=carbo_db, prot_db=prot_db, grassi_db=grassi_db, frutta_db=frutta_db, verdura_db=verdura_db,\n",
    "    fruit_ratio=0.1, veg_ratio=0.05  # modificabili a piacere\n",
    ")\n",
    "\n",
    "stampa_risultati(\"pranzo\", scelti, sol, quant_frutta, quant_verdura)"
   ]
  },
  {
   "cell_type": "code",
   "execution_count": null,
   "id": "a0193e01",
   "metadata": {},
   "outputs": [],
   "source": [
    "splits = None\n",
    "#splits = {(\"riso\",\"pane\"): (50,50)}\n",
    "\n",
    "if splits:\n",
    "    sol_bilanciata, info = bilancia_conservando_macros(scelti, sol, splits, carbo_db, prot_db, grassi_db)\n",
    "else:\n",
    "    # nessuno split richiesto: mantieni la soluzione originale\n",
    "    sol_bilanciata = sol.copy() if hasattr(sol, \"copy\") else sol\n",
    "    info = {\"skipped\": True}\n",
    "\n",
    "stampa_risultati(\"colazione\", scelti, sol_bilanciata, quant_frutta, quant_verdura)"
   ]
  },
  {
   "cell_type": "markdown",
   "id": "f11dd34d",
   "metadata": {},
   "source": [
    "# Cena"
   ]
  },
  {
   "cell_type": "code",
   "execution_count": 135,
   "id": "308be7bf",
   "metadata": {},
   "outputs": [
    {
     "name": "stdout",
     "output_type": "stream",
     "text": [
      "\n",
      "=== PRANZO ===\n",
      "pane: 92.7 g\n",
      "pollo: 165.0 g\n",
      "olio: 17.7 g\n",
      "\n",
      "Frutta: 153.8 g\n",
      "\n",
      "Verdura: 235.3 g\n"
     ]
    }
   ],
   "source": [
    "cal_pasto = calorie_tot * perc_pasti[\"cena\"]  \n",
    "\n",
    "scelta = {}\n",
    "for cat in [\"carboidrati\", \"proteine\", \"grassi\", \"frutta\", \"verdura\"]:\n",
    "    #print(f\"\\nAlimenti disponibili per {cat}: {list(carbo_db.keys()) if cat=='carboidrati' else (prot_db.keys() if cat=='proteine' else (grassi_db.keys() if cat=='grassi' else (frutta_db.keys() if cat=='frutta' else verdura_db.keys())))}\")\n",
    "    inp = input(f\"Scegli 1 o 2 alimenti per {cat} (cena): \")\n",
    "    scelta[cat] = [f.strip() for f in inp.split(\",\") if f.strip()]\n",
    "\n",
    "# calcolo dieta per il pasto\n",
    "scelti, sol, quant_frutta, quant_verdura = calcola_dieta(\n",
    "    cal_pasto, macro_pasti[\"cena\"], scelta, carbo_db=carbo_db, prot_db=prot_db, grassi_db=grassi_db, frutta_db=frutta_db, verdura_db=verdura_db,\n",
    "    fruit_ratio=0.1, veg_ratio=0.05  # modificabili a piacere\n",
    ")\n",
    "\n",
    "stampa_risultati(\"pranzo\", scelti, sol, quant_frutta, quant_verdura)"
   ]
  },
  {
   "cell_type": "code",
   "execution_count": null,
   "id": "23be64e2",
   "metadata": {},
   "outputs": [],
   "source": [
    "splits = None\n",
    "#splits = {(\"riso\",\"pane\"): (50,50)}\n",
    "\n",
    "if splits:\n",
    "    sol_bilanciata, info = bilancia_conservando_macros(scelti, sol, splits, carbo_db, prot_db, grassi_db)\n",
    "else:\n",
    "    # nessuno split richiesto: mantieni la soluzione originale\n",
    "    sol_bilanciata = sol.copy() if hasattr(sol, \"copy\") else sol\n",
    "    info = {\"skipped\": True}\n",
    "\n",
    "stampa_risultati(\"colazione\", scelti, sol_bilanciata, quant_frutta, quant_verdura)"
   ]
  }
 ],
 "metadata": {
  "kernelspec": {
   "display_name": "Python 3",
   "language": "python",
   "name": "python3"
  },
  "language_info": {
   "codemirror_mode": {
    "name": "ipython",
    "version": 3
   },
   "file_extension": ".py",
   "mimetype": "text/x-python",
   "name": "python",
   "nbconvert_exporter": "python",
   "pygments_lexer": "ipython3",
   "version": "3.11.9"
  }
 },
 "nbformat": 4,
 "nbformat_minor": 5
}
